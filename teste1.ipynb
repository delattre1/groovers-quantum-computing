{
 "cells": [
  {
   "cell_type": "markdown",
   "id": "91bdeb4c",
   "metadata": {},
   "source": [
    "#### Seting up  bra-ket notation \n",
    "$$\\newcommand{\\ket}[1]{\\left|{#1}\\right\\rangle}$$\n",
    "$$\\newcommand{\\bra}[1]{\\left\\langle{#1}\\right|}$$\n",
    "$$\\newcommand{\\braket}[2]{\\left\\langle{#1}\\middle|{#2}\\right\\rangle}$$\n",
    "(ignore)"
   ]
  },
  {
   "cell_type": "markdown",
   "id": "d49f12fe",
   "metadata": {},
   "source": [
    "# 1) Choose a problem that is not known to have an efficient solution with Classical Computing\n"
   ]
  },
  {
   "cell_type": "markdown",
   "id": "45826e5c",
   "metadata": {},
   "source": [
    "## Problem: Unstructured Search\n",
    "## Choosed algorithm: Grover's algorithm\n",
    "\n",
    "### Applications and limitations\n",
    "Grover's algorithm, along with variants like amplitude amplification, can be used to speed up a broad range of algorithms. In particular, algorithms for NP-complete problems generally contain exhaustive search as a subroutine, which can be sped up by Grover's algorithm. The current best algorithm for 3SAT is one such example. Generic constraint satisfaction problems also see quadratic speedups with Grover. These algorithms do not require that the input be given in the form of an oracle, since Grover's algorithm is being applied with an explicit function, e.g. the function checking that a set of bits satisfies a 3SAT instance.\n",
    "\n",
    "Grover's algorithm can also give provable speedups for black-box problems in quantum query complexity, including element distinctness and the collision problem (solved with the Brassard–Høyer–Tapp algorithm). In these types of problems, one treats the oracle function f as a database, and the goal is to use the quantum query to this function as few times as possible.\n",
    "\n",
    "### Cryptography\n",
    "Grover's algorithm essentially solves the task of function inversion. Roughly speaking, if we have a function {\\displaystyle y=f(x)}y=f(x) that can be evaluated on a quantum computer, Grover's algorithm allows us to calculate {\\displaystyle x}x when given {\\displaystyle y}y. Consequently, Grover's algorithm gives broad asymptotic speed-ups to many kinds of brute-force attacks on symmetric-key cryptography, including collision attacks and pre-image attacks. However, this may not necessarily be the most efficient algorithm since, for example, the parallel rho algorithm is able to find a collision in SHA2 more efficiently than Grover's algorithm.\n",
    "\n",
    "### Limitations\n",
    "Grover's original paper described the algorithm as a database search algorithm, and this description is still common. The database in this analogy is a table of all of the function's outputs, indexed by the corresponding input. However, this database is not represented explicitly. Instead, an oracle is invoked to evaluate an item by its index. Reading a full database item by item and converting it into such a representation may take a lot longer than Grover's search. To account for such effects, Grover's algorithm can be viewed as solving an equation or satisfying a constraint. In such applications, the oracle is a way to check the constraint and is not related to the search algorithm. This separation usually prevents algorithmic optimizations, whereas conventional search algorithms often rely on such optimizations and avoid exhaustive search.\n",
    "\n",
    "The major barrier to instantiating a speedup from Grover's algorithm is that the quadratic speedup achieved is too modest to overcome the large overhead of near-term quantum computers. However, later generations of fault-tolerant quantum computers with better hardware performance may be able to realize these speedups for practical instances of data.\n",
    "\n",
    "\n",
    "### References:\n",
    "- Grover's algorithm: https://en.wikipedia.org/wiki/Grover%27s_algorithm\n",
    "- Grover’s algorithm:  https://quantum-computing.ibm.com/composer/docs/iqx/guide/grovers-algorithm\n",
    "- Grover’s algorithm – unstructured search:  https://leftasexercise.com/2018/10/29/grovers-algorithm-unstructured-search-with-a-quantum-computer/#r1\n",
    "- Unstructured search: https://www.cse.iitk.ac.in/users/rmittal/prev_course/s21/reports/11_search.pdf"
   ]
  },
  {
   "cell_type": "markdown",
   "id": "0fda34d7",
   "metadata": {},
   "source": [
    "# 2) Describe the computational difficulty of solving the problem"
   ]
  },
  {
   "cell_type": "markdown",
   "id": "1cccd8ee",
   "metadata": {},
   "source": [
    "\n",
    "### Unstructured search\n",
    "\n",
    "Suppose that we have a function\n",
    "\n",
    "$ f : \\{0, 1\\} ^n → \\{0, 1\\} $ \n",
    "\n",
    "\n",
    "\n",
    "That is implemented by a reversible transformation $B_{f}$ in the usual way:\n",
    "\n",
    "\n",
    "$ B_{f} \\ket{x} \\ket{a} = \\ket{x}  \\ket{a ⊕ f(x)} $\n",
    "\n",
    "for all $ x ∈ \\{0, 1\\}^n$ and $a ∈ \\{0, 1\\}$ \n",
    "\n",
    "The problem of *search* is simply to find a string $x ∈ \\{0, 1\\}^n$\n",
    "\n",
    "\n",
    "Such that $ f(x) = 1 $, or to conclude that no such **x** exists if $f$ is identically **0**.\n",
    "\n",
    "\n",
    "#### It is important to note that this searching problem is completely *unstructured*. \n",
    "There are no promises on the function $f$, so it is *not possible to use binary search or any other fast searching\n",
    "method to efficiently solve the problem classically.*\n",
    "\n",
    "\n",
    "### What is the best classical algorithm for solving the above search problem? \n",
    "As we have noted before, it is more complicated than one might initially think to rigorously prove lower bounds\n",
    "on algorithms. In this particular case it is not too hard, but because our focus is on the quantum algorithm for the problem we will spend more focuss discuting the quantum algorithm than the issue of classical complexity.\n",
    "\n",
    "\n",
    "It is not hard to see that a deterministic algorithm would need to make $2^n$ queries to the blackbox in the worst case (to distinguish the case where $f$ is identically **0** from any of the cases where there is a single $x$ for which $f(x) = 1$, for instance).\n",
    "\n",
    "\n",
    "Probabilistically, a best strategy for an algorithm that makes $k$ queries is to simply choose $k$ distinct values of $x$ and to query the black-box at these $k$ values. In the case that there is a single\n",
    "value of x for which $f(x) = 1$, and we require that our algorithm succeeds in finding this $x$ with\n",
    "probability at least $1 − ε$, then we must have $1 − \\frac{k}{2^n} ≤ ε$. \n",
    "\n",
    "- This implies $k ≥ (1 − ε)2^n$, so for constant error we therefore need \n",
    "$k = Ω(2^n)$ \n",
    "queries to solve the problem.\n",
    "\n",
    "- In contrast, Grovers algorithm will solve the problem using $ O(\n",
    "√2^n)$ queries.\n",
    "\n",
    "\n",
    "### References:\n",
    "\n",
    "- Lecture 12: Grover’s Algorithm: https://www.cs.umd.edu/class/spring2018/cmsc457/Lectures/Wat-06-Lec-12.pdf\n"
   ]
  },
  {
   "cell_type": "markdown",
   "id": "ddd17e32",
   "metadata": {},
   "source": [
    "# 3) Describe a boolean or phase oracle (not yet optimized) to generate solutions to the problem"
   ]
  },
  {
   "cell_type": "code",
   "execution_count": null,
   "id": "48f24786",
   "metadata": {},
   "outputs": [],
   "source": []
  },
  {
   "cell_type": "code",
   "execution_count": null,
   "id": "be6c644d",
   "metadata": {},
   "outputs": [],
   "source": []
  }
 ],
 "metadata": {
  "kernelspec": {
   "display_name": "Python 3 (ipykernel)",
   "language": "python",
   "name": "python3"
  },
  "language_info": {
   "codemirror_mode": {
    "name": "ipython",
    "version": 3
   },
   "file_extension": ".py",
   "mimetype": "text/x-python",
   "name": "python",
   "nbconvert_exporter": "python",
   "pygments_lexer": "ipython3",
   "version": "3.10.8"
  }
 },
 "nbformat": 4,
 "nbformat_minor": 5
}
