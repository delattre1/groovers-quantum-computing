{
 "cells": [
  {
   "cell_type": "markdown",
   "id": "58a067cf",
   "metadata": {},
   "source": [
    "#### Seting up  bra-ket notation \n",
    "$$\\newcommand{\\ket}[1]{\\left|{#1}\\right\\rangle}$$\n",
    "$$\\newcommand{\\bra}[1]{\\left\\langle{#1}\\right|}$$\n",
    "$$\\newcommand{\\braket}[2]{\\left\\langle{#1}\\middle|{#2}\\right\\rangle}$$\n",
    "(ignore)"
   ]
  },
  {
   "cell_type": "markdown",
   "id": "aeba753d",
   "metadata": {},
   "source": [
    "# Students: Daniel Delattre and Luis Felipe Cunha Souza\n"
   ]
  },
  {
   "cell_type": "code",
   "execution_count": 3,
   "id": "d3cc79a8",
   "metadata": {},
   "outputs": [],
   "source": [
    "%matplotlib inline\n",
    "# Importing standard Qiskit libraries and configuring account\n",
    "from qiskit import QuantumCircuit, QuantumRegister, ClassicalRegister, execute, Aer, IBMQ\n",
    "from qiskit.compiler import transpile, assemble\n",
    "from qiskit.quantum_info.operators import Operator\n",
    "from qiskit.tools.jupyter import *\n",
    "from qiskit.visualization import *\n",
    "from qiskit.circuit.library import MCMT"
   ]
  },
  {
   "cell_type": "markdown",
   "id": "d21087ba",
   "metadata": {},
   "source": [
    "# 1) Choose a problem that is not known to have an efficient solution with Classical Computing\n"
   ]
  },
  {
   "cell_type": "markdown",
   "id": "a00dc03e",
   "metadata": {},
   "source": [
    "## Problem: Unstructured Search\n",
    "## Choosed algorithm: Grover's algorithm\n",
    "\n",
    "### Applications and limitations\n",
    "Grover's algorithm, along with variants like amplitude amplification, can be used to speed up a broad range of algorithms. In particular, algorithms for NP-complete problems generally contain exhaustive search as a subroutine, which can be sped up by Grover's algorithm. The current best algorithm for 3SAT is one such example. Generic constraint satisfaction problems also see quadratic speedups with Grover. These algorithms do not require that the input be given in the form of an oracle, since Grover's algorithm is being applied with an explicit function, e.g. the function checking that a set of bits satisfies a 3SAT instance.\n",
    "\n",
    "Grover's algorithm can also give provable speedups for black-box problems in quantum query complexity, including element distinctness and the collision problem (solved with the Brassard–Høyer–Tapp algorithm). In these types of problems, one treats the oracle function f as a database, and the goal is to use the quantum query to this function as few times as possible.\n",
    "\n",
    "### Cryptography\n",
    "Grover's algorithm essentially solves the task of function inversion. Roughly speaking, if we have a function {\\displaystyle y=f(x)}y=f(x) that can be evaluated on a quantum computer, Grover's algorithm allows us to calculate {\\displaystyle x}x when given {\\displaystyle y}y. Consequently, Grover's algorithm gives broad asymptotic speed-ups to many kinds of brute-force attacks on symmetric-key cryptography, including collision attacks and pre-image attacks. However, this may not necessarily be the most efficient algorithm since, for example, the parallel rho algorithm is able to find a collision in SHA2 more efficiently than Grover's algorithm.\n",
    "\n",
    "### Limitations\n",
    "Grover's original paper described the algorithm as a database search algorithm, and this description is still common. The database in this analogy is a table of all of the function's outputs, indexed by the corresponding input. However, this database is not represented explicitly. Instead, an oracle is invoked to evaluate an item by its index. Reading a full database item by item and converting it into such a representation may take a lot longer than Grover's search. To account for such effects, Grover's algorithm can be viewed as solving an equation or satisfying a constraint. In such applications, the oracle is a way to check the constraint and is not related to the search algorithm. This separation usually prevents algorithmic optimizations, whereas conventional search algorithms often rely on such optimizations and avoid exhaustive search.\n",
    "\n",
    "The major barrier to instantiating a speedup from Grover's algorithm is that the quadratic speedup achieved is too modest to overcome the large overhead of near-term quantum computers. However, later generations of fault-tolerant quantum computers with better hardware performance may be able to realize these speedups for practical instances of data.\n",
    "\n",
    "\n",
    "### References:\n",
    "- Grover's algorithm: https://en.wikipedia.org/wiki/Grover%27s_algorithm\n",
    "- Grover’s algorithm:  https://quantum-computing.ibm.com/composer/docs/iqx/guide/grovers-algorithm\n",
    "- Grover’s algorithm – unstructured search:  https://leftasexercise.com/2018/10/29/grovers-algorithm-unstructured-search-with-a-quantum-computer/#r1\n",
    "- Unstructured search: https://www.cse.iitk.ac.in/users/rmittal/prev_course/s21/reports/11_search.pdf"
   ]
  },
  {
   "cell_type": "markdown",
   "id": "50c96384",
   "metadata": {},
   "source": [
    "# 2) Describe the computational difficulty of solving the problem"
   ]
  },
  {
   "cell_type": "markdown",
   "id": "4b902023",
   "metadata": {},
   "source": [
    "\n",
    "### Unstructured search\n",
    "\n",
    "Suppose that we have a function\n",
    "\n",
    "$ f : \\{0, 1\\} ^n → \\{0, 1\\} $ \n",
    "\n",
    "\n",
    "\n",
    "That is implemented by a reversible transformation $B_{f}$ in the usual way:\n",
    "\n",
    "\n",
    "$ B_{f} \\ket{x} \\ket{a} = \\ket{x}  \\ket{a ⊕ f(x)} $\n",
    "\n",
    "for all $ x ∈ \\{0, 1\\}^n$ and $a ∈ \\{0, 1\\}$ \n",
    "\n",
    "The problem of *search* is simply to find a string $x ∈ \\{0, 1\\}^n$\n",
    "\n",
    "\n",
    "Such that $ f(x) = 1 $, or to conclude that no such **x** exists if $f$ is identically **0**.\n",
    "\n",
    "\n",
    "#### It is important to note that this searching problem is completely *unstructured*. \n",
    "There are no promises on the function $f$, so it is *not possible to use binary search or any other fast searching\n",
    "method to efficiently solve the problem classically.*\n",
    "\n",
    "\n",
    "### What is the best classical algorithm for solving the above search problem? \n",
    "As we have noted before, it is more complicated than one might initially think to rigorously prove lower bounds\n",
    "on algorithms. In this particular case it is not too hard, but because our focus is on the quantum algorithm for the problem we will spend more focuss discuting the quantum algorithm than the issue of classical complexity.\n",
    "\n",
    "\n",
    "It is not hard to see that a deterministic algorithm would need to make $2^n$ queries to the blackbox in the worst case (to distinguish the case where $f$ is identically **0** from any of the cases where there is a single $x$ for which $f(x) = 1$, for instance).\n",
    "\n",
    "\n",
    "Probabilistically, a best strategy for an algorithm that makes $k$ queries is to simply choose $k$ distinct values of $x$ and to query the black-box at these $k$ values. In the case that there is a single\n",
    "value of x for which $f(x) = 1$, and we require that our algorithm succeeds in finding this $x$ with\n",
    "probability at least $1 − ε$, then we must have $1 − \\frac{k}{2^n} ≤ ε$. \n",
    "\n",
    "- This implies $k ≥ (1 − ε)2^n$, so for constant error we therefore need \n",
    "$k = Ω(2^n)$ \n",
    "queries to solve the problem.\n",
    "\n",
    "- In contrast, Grovers algorithm will solve the problem using $ O(\n",
    "√2^n)$ queries.\n",
    "\n",
    "\n",
    "### References:\n",
    "\n",
    "- Lecture 12: Grover’s Algorithm: https://www.cs.umd.edu/class/spring2018/cmsc457/Lectures/Wat-06-Lec-12.pdf\n"
   ]
  },
  {
   "cell_type": "markdown",
   "id": "85773c48",
   "metadata": {},
   "source": [
    "# 3) Describe a boolean or phase oracle (not yet optimized) to generate solutions to the problem"
   ]
  },
  {
   "cell_type": "markdown",
   "id": "fc677754",
   "metadata": {},
   "source": [
    "## Introduction\n",
    "Grover's algorithm demonstrates the capability of searching unordered databases with superior speed. This algorithm can speed up an unstructured search problem quadratically, but its uses extend beyond that; it can serve as a general trick or subroutine to obtain quadratic run time improvements for a variety of other algorithms. This is called the **amplitude amplification trick**\n",
    "\n",
    "\n",
    "## Sample Problem\n",
    "\n",
    "Suppose you are given a large list of $N$ items. Among these items there is one item with a unique property that we wish to locate; we will call this one the winner w. \n",
    "\n",
    "To find the w using classical computation, one would have to check on average $N/2$ of these items, and in the worst case, all of them. Using Grover's amplitude amplification trick we can find the marked item in roughly $√N$ steps with. A quadratic speedup is a substantial time-saver for finding items in long lists.\n",
    "\n",
    "Additionally, the algorithm does not use the list's internal structure, which makes it generic; this is why it immediately provides a quadratic quantum speed-up for many classical problems.\n",
    "\n",
    "\n",
    "### Amplitude Amplification \n",
    "\n",
    "Before looking at the list, any guess of where the w is would be as good as any other, wich can be expressed in terms of the following superposition:\n",
    "\n",
    "$\\ket{s} = \\frac{1}{√2} \\sum_{x=0}^{N-1} \\ket{x}$\n",
    "\n",
    "If at this point we were to measure in the standard basis  $\\{|x⟩\\}$\n",
    " , this superposition would collapse, according to the fifth quantum law, to any one of the basis states with the same probability of\n",
    "$\\frac{1}{N}=\\frac{1}{2^n}$\n",
    "\n",
    "\n",
    "Our chances of guessing the right value  $w$  is therefore  $1$  in  $2^n$, as could be expected. Hence, on average we would need to try about  $\\frac{N}{2}=2^{n−1}$  times to guess the correct item\n",
    "\n",
    "Enter the procedure called amplitude amplification, which is how a quantum computer significantly enhances this probability. This procedure stretches out (amplifies) the amplitude of the marked item, which shrinks the other items' amplitude, so that measuring the final state will return the right item with near-certainty.\n",
    "\n",
    "This algorithm has a nice geometrical interpretation in terms of two reflections, which generate a rotation in a two-dimensional plane. The only two special states we need to consider are the winner \n",
    "$|w⟩$  and the uniform superposition  $|s⟩$.\n",
    "\n",
    "These two vectors span a two-dimensional plane in the vector space  \n",
    "$C^N$.  They are not quite perpendicular because  $|w⟩$\n",
    "  occurs in the superposition with amplitude  \n",
    "$N^{−1/2}$  as well. We can, however, introduce an additional state  $|s′⟩$ that is in the span of these two vectors, which is perpendicular to  $|w⟩$  and is obtained from  $|s⟩$  by removing  $|w⟩$  and rescaling.\n",
    "\n",
    "More details about the Amplitude Amplification operation can be found at [qiskit reference](https://qiskit.org/documentation/tutorials/algorithms/06_grover.html#Amplitude-amplification)\n",
    "\n",
    "And from the explanation on the reference we get that in the case that there are multiple solutions $(M)$, it can be shown that roughly  \n",
    "$√\\frac{N}{M}$  rotations will suffice.\n",
    "\n",
    "#### High level Groover circuit:\n",
    "\n",
    "<img src=\"imgs/grover_circuit_high_level.png\" />\n",
    "\n",
    "\n",
    "<br><br>\n",
    "\n",
    "\n",
    "\n",
    "### References:\n",
    "- https://qiskit.org/textbook/ch-algorithms/grover.html#Unstructured-Search"
   ]
  },
  {
   "cell_type": "markdown",
   "id": "ce74828b",
   "metadata": {},
   "source": [
    "## Example solving the problem with 2 Qubits, where N = 4\n",
    "\n",
    "In this particular case, only one rotation is required to rotate the initial state $|s⟩$ to the winner $|w ⟩$:\n",
    "\n",
    "\n",
    "### Qiskit Implementation\n",
    "\n"
   ]
  },
  {
   "cell_type": "markdown",
   "id": "80c517a9",
   "metadata": {},
   "source": [
    "1. Following the above introduction, in the case $N = 4$\n",
    "  we have $θ = \\arcsin \\frac{1}{2} = \\frac{π}{6}$\n",
    " \n",
    "2. After $t$ steps, we have\n",
    "$( U_{s} U_{ω})^t \\ket{s} = sin θ_{t} \\ket{ω} + cos θ_{t}\\ket{s′}$, where $θ_{t} = (2t + 1)θ$.\n",
    " \n",
    "3. In order to obtain $| ω ⟩$ we need  $θ_{t} = \\frac{π}{2}$, which with  $θ = \\frac{π}{6}$ inserted above results to  \n",
    "$t = 1$. This implies that after  $t = 1$ rotation the searched element is found.  We will now follow through an example using a specific oracle.\n",
    "\n",
    "### Oracle for  $| ω ⟩ = | 11 ⟩$\n",
    "  \n",
    "Let's look at the case  $| w ⟩ = | 11 ⟩$ . The oracle  $U_{ω}$ in this case acts as follows: \n",
    "\n",
    "$U ω | s ⟩ = U_{ω} \\frac{1}{2} ( | 00 ⟩ + | 01 ⟩ + | 10 ⟩ + | 11 ⟩) = \\frac{1}{2} ( | 00 ⟩ + | 01 ⟩ + | 10 ⟩ − | 11 ⟩)$.\n",
    "\n",
    "or:\n",
    "\n",
    "$U_{ω} = \\begin{bmatrix} 1 & 0 & 0 & 0 \\\\\n",
    "                         0 & 1 & 0 & 0 \\\\\n",
    "                         0 & 0 & 1 & 0 \\\\\n",
    "                         0 & 0 & 0 & −1 \\end{bmatrix}$ \n",
    "                         \n",
    "which you may recognise as the controlled-Z gate. Thus, for this example, our oracle is simply the controlled-Z gate: \n",
    "\n",
    "\n",
    "\n",
    "\n",
    "\n"
   ]
  },
  {
   "cell_type": "code",
   "execution_count": 4,
   "id": "4ba01464",
   "metadata": {},
   "outputs": [
    {
     "name": "stdout",
     "output_type": "stream",
     "text": [
      "Oracle is simply the controlled-Z gate\n"
     ]
    },
    {
     "data": {
      "image/png": "[encoded data removed]",
      "text/plain": [
       "<Figure size 287.294x200.667 with 1 Axes>"
      ]
     },
     "metadata": {},
     "output_type": "display_data"
    }
   ],
   "source": [
    "# Circuit 1 - 2 Qubit\n",
    "q = QuantumRegister(2, name='q')\n",
    "qc = QuantumCircuit(q)\n",
    "qc.h(q[0])\n",
    "qc.h(q[1])\n",
    "qc.cz(0, 1)\n",
    "\n",
    "print('Oracle is simply the controlled-Z gate')\n",
    "display(qc.draw('mpl'))"
   ]
  },
  {
   "cell_type": "markdown",
   "id": "422b9b45",
   "metadata": {},
   "source": [
    "### Reflection  $U_{s}$\n",
    "  \n",
    "In order to complete the circuit we need to implement the additional reflection  \n",
    " $U_{s} = 2 | s ⟩ ⟨ s | − 1$. \n",
    " \n",
    " Since this is a reflection about  \n",
    "$| s ⟩$, we want to add a negative phase to every state orthogonal to $| s ⟩$ .  \n",
    "\n",
    "One way we can do this is to use the operation that transforms the state  $| s ⟩ → | 0 ⟩$ , which we already know is the Hadamard gate applied to each qubit: \n",
    "\n",
    "$H ⊗ n |s ⟩ = | 0 ⟩$\n",
    "\n",
    "Then we apply a circuit that adds a negative phase to the states orthogonal to  $| 0 ⟩$:\n",
    "\n",
    "$U_{0} \\frac{1}{2} ( | 00 ⟩ + | 01 ⟩ + | 10 ⟩ + | 11 ⟩) =  \\frac{1}{2} ( | 00 ⟩ − | 01 ⟩ − | 10 ⟩ − | 11 ⟩)$\n",
    "\n",
    "i.e. the signs of each state are flipped except for  \n",
    "$| 00 ⟩$ . As can easily be verified, one way of implementing  \n",
    "\n",
    "\n",
    "$U_{0}$ is the following circuit:\n",
    "\n"
   ]
  },
  {
   "cell_type": "code",
   "execution_count": 5,
   "id": "f15239cf",
   "metadata": {},
   "outputs": [
    {
     "name": "stdout",
     "output_type": "stream",
     "text": [
      "Circuit for reflection around |0>\n"
     ]
    },
    {
     "data": {
      "image/png": "[encoded data removed]",
      "text/plain": [
       "<Figure size 287.294x200.667 with 1 Axes>"
      ]
     },
     "metadata": {},
     "output_type": "display_data"
    }
   ],
   "source": [
    "# Circuit 2 - 2 Qubit\n",
    "q = QuantumRegister(2, name='q')\n",
    "qc = QuantumCircuit(q)\n",
    "qc.z(q[0])\n",
    "qc.z(q[1])\n",
    "qc.cz(0, 1)\n",
    "print('Circuit for reflection around |0>')\n",
    "display(qc.draw('mpl'))"
   ]
  },
  {
   "cell_type": "markdown",
   "id": "08b5b0b7",
   "metadata": {},
   "source": [
    "Finally, we do the operation that transforms the state  $| 0 ⟩ → | s ⟩$ (the H-gate again): \n",
    "$H^{⊗n} U_{0}H^{⊗n} = U_{s}$\n",
    " \n",
    "The complete circuit for $U_{s}$ looks like this:\n",
    "\n"
   ]
  },
  {
   "cell_type": "code",
   "execution_count": 6,
   "id": "469a9978",
   "metadata": {},
   "outputs": [
    {
     "name": "stdout",
     "output_type": "stream",
     "text": [
      "Circuit for reflection around |s>\n"
     ]
    },
    {
     "data": {
      "image/png": "[encoded data removed]",
      "text/plain": [
       "<Figure size 454.517x200.667 with 1 Axes>"
      ]
     },
     "metadata": {},
     "output_type": "display_data"
    }
   ],
   "source": [
    "# Circuit 3 - 2 Qubit\n",
    "q = QuantumRegister(2, name='q')\n",
    "qc = QuantumCircuit(q)\n",
    "qc.h(q[0])\n",
    "qc.h(q[1])\n",
    "qc.z(q[0])\n",
    "qc.z(q[1])\n",
    "qc.cz(0, 1)\n",
    "qc.h(q[0])\n",
    "qc.h(q[1])\n",
    "\n",
    "print('Circuit for reflection around |s>')\n",
    "display(qc.draw('mpl'))\n"
   ]
  },
  {
   "cell_type": "markdown",
   "id": "b19a2db8",
   "metadata": {},
   "source": [
    "### Full Circuit for  $| w ⟩ = | 11 ⟩$\n",
    "  \n",
    "Since in the particular case of $N = 4$ only one rotation is required we can combine the above components to build the full circuit for Grover's algorithm for the case  \n",
    "$| w ⟩ = | 11 ⟩$\n"
   ]
  },
  {
   "cell_type": "code",
   "execution_count": 7,
   "id": "7b5d18cd",
   "metadata": {},
   "outputs": [
    {
     "data": {
      "image/png": "[encoded data removed]",
      "text/plain": [
       "<Figure size 621.739x200.667 with 1 Axes>"
      ]
     },
     "metadata": {},
     "output_type": "display_data"
    }
   ],
   "source": [
    "# Circuit 4 - 2 Qubit\n",
    "q = QuantumRegister(2, name='q')\n",
    "qc = QuantumCircuit(q)\n",
    "qc.h(q[0])\n",
    "qc.h(q[1])\n",
    "qc.cz(0, 1)\n",
    "qc.h(q[0])\n",
    "qc.h(q[1])\n",
    "qc.z(q[0])\n",
    "qc.z(q[1])\n",
    "qc.cz(0, 1)\n",
    "qc.h(q[0])\n",
    "qc.h(q[1])\n",
    "\n",
    "display(qc.draw('mpl'))"
   ]
  },
  {
   "cell_type": "markdown",
   "id": "36e07e5e",
   "metadata": {},
   "source": [
    "### Qiskit Implementation for 2 qubits \n",
    "We now implement Grover's algorithm for the above case of 2 qubits for  $| w ⟩\n",
    "= | 11 ⟩$"
   ]
  },
  {
   "cell_type": "code",
   "execution_count": 8,
   "id": "b74ec0c2",
   "metadata": {},
   "outputs": [
    {
     "data": {
      "image/png": "[encoded data removed]",
      "text/plain": [
       "<Figure size 203.683x200.667 with 1 Axes>"
      ]
     },
     "execution_count": 8,
     "metadata": {},
     "output_type": "execute_result"
    }
   ],
   "source": [
    "def initialize_s(qc, qubits):\n",
    "    \"\"\"Apply a H-gate to 'qubits' in qc\"\"\"\n",
    "    for q in qubits:\n",
    "        qc.h(q)\n",
    "    return qc\n",
    "\n",
    "n = 2\n",
    "grover_circuit = QuantumCircuit(n)\n",
    "grover_circuit = initialize_s(grover_circuit, [0,1])\n",
    "grover_circuit.draw('mpl')"
   ]
  },
  {
   "cell_type": "markdown",
   "id": "07a07953",
   "metadata": {},
   "source": [
    "Apply the Oracle for  $|w⟩=|11⟩$ (oracle is specific to 2 qubits)"
   ]
  },
  {
   "cell_type": "code",
   "execution_count": 9,
   "id": "f3d40859",
   "metadata": {},
   "outputs": [
    {
     "data": {
      "image/png": "[encoded data removed]",
      "text/plain": [
       "<Figure size 287.294x200.667 with 1 Axes>"
      ]
     },
     "execution_count": 9,
     "metadata": {},
     "output_type": "execute_result"
    }
   ],
   "source": [
    "grover_circuit.cz(0,1) # Oracle\n",
    "grover_circuit.draw('mpl')"
   ]
  },
  {
   "cell_type": "markdown",
   "id": "c2b6b671",
   "metadata": {},
   "source": [
    "Apply the diffuser $(U_{s})$ specific for two qubits"
   ]
  },
  {
   "cell_type": "code",
   "execution_count": 10,
   "id": "ced3bd9d",
   "metadata": {},
   "outputs": [
    {
     "data": {
      "image/png": "[encoded data removed]",
      "text/plain": [
       "<Figure size 621.739x200.667 with 1 Axes>"
      ]
     },
     "execution_count": 10,
     "metadata": {},
     "output_type": "execute_result"
    }
   ],
   "source": [
    "# Diffusion operator (U_s)\n",
    "grover_circuit.h([0,1])\n",
    "grover_circuit.z([0,1])\n",
    "grover_circuit.cz(0,1)\n",
    "grover_circuit.h([0,1])\n",
    "grover_circuit.draw('mpl')"
   ]
  },
  {
   "cell_type": "markdown",
   "id": "57857867",
   "metadata": {},
   "source": [
    "## Experiment circuit using simulators"
   ]
  },
  {
   "cell_type": "code",
   "execution_count": 14,
   "id": "487d9ea8",
   "metadata": {},
   "outputs": [
    {
     "data": {
      "text/latex": [
       "$\\displaystyle \n",
       "$$ |\\psi\\rangle =\\begin{bmatrix}\n",
       "0 \\\\\n",
       "0 \\\\\n",
       "0 \\\\\n",
       "1\\end{bmatrix} $"
      ],
      "text/plain": [
       "<IPython.core.display.Math object>"
      ]
     },
     "metadata": {},
     "output_type": "display_data"
    }
   ],
   "source": [
    "sim = Aer.get_backend('aer_simulator')\n",
    "# we need to make a copy of the circuit with the 'save_statevector'\n",
    "# instruction to run on the Aer simulator\n",
    "grover_circuit_sim = grover_circuit.copy()\n",
    "grover_circuit_sim.save_statevector()\n",
    "qobj = assemble(grover_circuit_sim)\n",
    "result = sim.run(qobj).result()\n",
    "statevec = result.get_statevector()\n",
    "\n",
    "from qiskit_textbook.tools import vector2latex\n",
    "#pip install git+https://github.com/qiskit-community/qiskit-textbook.git#subdirectory=qiskit-textbook-src\n",
    "\n",
    "vector2latex(statevec, pretext=\"|\\\\psi\\\\rangle =\")"
   ]
  },
  {
   "cell_type": "markdown",
   "id": "52704e63",
   "metadata": {},
   "source": [
    "As expected, the amplitude the every state $|11⟩$ is $1$, this means we have a 100% chance of measuring  $|11⟩$, and the amplitude of amplitude others states is $0$"
   ]
  },
  {
   "cell_type": "code",
   "execution_count": 15,
   "id": "c9c54213",
   "metadata": {},
   "outputs": [
    {
     "data": {
      "image/png": "[encoded data removed]",
      "text/plain": [
       "<Figure size 700x500 with 1 Axes>"
      ]
     },
     "execution_count": 15,
     "metadata": {},
     "output_type": "execute_result"
    }
   ],
   "source": [
    "grover_circuit.measure_all()\n",
    "\n",
    "aer_sim = Aer.get_backend('aer_simulator')\n",
    "qobj = assemble(grover_circuit)\n",
    "result = aer_sim.run(qobj).result()\n",
    "counts = result.get_counts()\n",
    "plot_histogram(counts)"
   ]
  },
  {
   "cell_type": "markdown",
   "id": "bdc3aa70",
   "metadata": {},
   "source": [
    "## Now that we made this example, lets solve a problem for 3 Qubits\n",
    "\n",
    " Grover's algorithm for 3 qubits with two marked states $|101⟩$ and $|110⟩$\n",
    " , following the implementation in the example for 2 Qubits.\n",
    "### The quantum circuit to solve the problem using a phase oracle is:\n",
    "\n",
    "<img src=\"imgs/grover_circuit_3qubits.png\" />\n"
   ]
  },
  {
   "cell_type": "markdown",
   "id": "cdc7494a",
   "metadata": {},
   "source": [
    "1. Apply Hadamard gates to  \n",
    "$3$ qubits initialized to $|000⟩$ to create a uniform superposition:\n",
    "\n",
    "    $|ψ_{1}⟩= \\frac{1}{√8}(|000⟩+|001⟩+|010⟩+|011⟩+|100⟩+|101⟩+|110⟩+|111⟩)$\n",
    " \n",
    "2. Mark states $|101⟩$ and $|110⟩$  using a phase oracle:\n",
    "\n",
    "    $|ψ_{2}⟩=\\frac{1}{√8}(|000⟩+|001⟩+|010⟩+|011⟩+|100⟩−|101⟩−|110⟩+|111⟩)$\n",
    " \n",
    "Then \n",
    "\n",
    "3. **perform the reflection around the average amplitude**:\n",
    "\n",
    "    3.1 Apply Hadamard gates to the qubits\n",
    "\n",
    "    $| ψ3_{a}⟩=\\frac{1}{2}(|000⟩+|011⟩+|100⟩−|111⟩)$\n",
    "\n",
    "    3.2 Apply $X$ gates to the qubits\n",
    "\n",
    "    $|ψ3_{b}⟩=\\frac{1}{2}(−|000⟩+|011⟩+|100⟩+|111⟩)$\n",
    "\n",
    "    3.3 Apply a doubly controlled Z gate between the 1, 2 (controls) and 3 (target) qubits\n",
    "\n",
    "    $|ψ_{3c}⟩=\\frac{1}{2}(−|000⟩+|011⟩+|100⟩−|111⟩)$\n",
    "\n",
    "    3.4 Apply $X$ gates to the qubits\n",
    "\n",
    "    $|ψ_{3d}⟩=\\frac{1}{2}(−|000⟩+|011⟩+|100⟩−|111⟩)$\n",
    "\n",
    "    3.5 Apply Hadamard gates to the qubits\n",
    "\n",
    "    $|ψ_{3e}⟩=\\frac{1}{√2}(−|11⟩−|10⟩)$\n",
    "\n",
    "    \n",
    "4. Measure the 3 qubits to retrieve states $|101⟩$ and $|110⟩$\n",
    " \n",
    "Note that since there are 2 solutions and 8 possibilities, we will only need to run one iteration (steps 2 & 3).\n",
    "\n",
    "## Qiskit code Implementation \n",
    "\n",
    "Implementing the Grover's algorithm for 3 qubits and searching for two marked states $|101⟩$ and $|110⟩$\n",
    " \n",
    " . Note: Remember that Qiskit orders it's qubits the opposite way round to this resource, so the circuit drawn will appear flipped about the horizontal.\n",
    "\n",
    "We create a phase oracle that will mark states  $|101⟩$ and $|110⟩$\n",
    "  as the results (step 1)."
   ]
  },
  {
   "cell_type": "code",
   "execution_count": 16,
   "id": "b7220639",
   "metadata": {},
   "outputs": [],
   "source": [
    "qc = QuantumCircuit(3)\n",
    "qc.cz(0, 2)\n",
    "qc.cz(1, 2)\n",
    "oracle_ex3 = qc.to_gate()\n",
    "oracle_ex3.name = \"U$_\\omega$\""
   ]
  },
  {
   "cell_type": "markdown",
   "id": "d3f8eeb8",
   "metadata": {},
   "source": [
    "Creating the diffuser that works with any number of Qubits"
   ]
  },
  {
   "cell_type": "code",
   "execution_count": 17,
   "id": "7abbd49a",
   "metadata": {},
   "outputs": [],
   "source": [
    "def diffuser(nqubits):\n",
    "    qc = QuantumCircuit(nqubits)\n",
    "    # Apply transformation |s> -> |00..0> (H-gates)\n",
    "    for qubit in range(nqubits):\n",
    "        qc.h(qubit)\n",
    "    # Apply transformation |00..0> -> |11..1> (X-gates)\n",
    "    for qubit in range(nqubits):\n",
    "        qc.x(qubit)\n",
    "    # Do multi-controlled-Z gate\n",
    "    qc.h(nqubits-1)\n",
    "    qc.mct(list(range(nqubits-1)), nqubits-1)  # multi-controlled-toffoli\n",
    "    qc.h(nqubits-1)\n",
    "    # Apply transformation |11..1> -> |00..0>\n",
    "    for qubit in range(nqubits):\n",
    "        qc.x(qubit)\n",
    "    # Apply transformation |00..0> -> |s>\n",
    "    for qubit in range(nqubits):\n",
    "        qc.h(qubit)\n",
    "    # We will return the diffuser as a gate\n",
    "    U_s = qc.to_gate()\n",
    "    U_s.name = \"U$_s$\"\n",
    "    return U_s"
   ]
  },
  {
   "cell_type": "markdown",
   "id": "42ccc2a6",
   "metadata": {},
   "source": [
    "After that, we will create a uniform superposition at the start of the circuit and a measurement at the end.\n",
    "As there are 2 solutions for 8 possibilities, we will only need to run one iteration"
   ]
  },
  {
   "cell_type": "code",
   "execution_count": 18,
   "id": "6dd5243b",
   "metadata": {},
   "outputs": [
    {
     "data": {
      "image/png": "[encoded data removed]",
      "text/plain": [
       "<Figure size 747.609x367.889 with 1 Axes>"
      ]
     },
     "execution_count": 18,
     "metadata": {},
     "output_type": "execute_result"
    }
   ],
   "source": [
    "n = 3\n",
    "grover_circuit = QuantumCircuit(n)\n",
    "grover_circuit = initialize_s(grover_circuit, [0,1,2])\n",
    "grover_circuit.append(oracle_ex3, [0,1,2])\n",
    "grover_circuit.append(diffuser(n), [0,1,2])\n",
    "grover_circuit.measure_all()\n",
    "grover_circuit.draw('mpl')"
   ]
  },
  {
   "cell_type": "markdown",
   "id": "7c935720",
   "metadata": {},
   "source": [
    "# Second part of project..."
   ]
  },
  {
   "cell_type": "markdown",
   "id": "4d1291fa",
   "metadata": {},
   "source": [
    "## Only to make clear what we are doing: \n",
    "\n",
    "1. We are looking for two numbers: 101 and 110 in a sample of all possible numbers made with 3 qubits\n",
    "2. This process runned 1024 times in the simulator, to get our result\n",
    "3. In this simulation, the process took: 1.66 ms to run\n",
    "4. All of this process will be reproduced in python - classical sequential search "
   ]
  },
  {
   "cell_type": "markdown",
   "id": "d9d74132",
   "metadata": {},
   "source": [
    "## Using the simulator"
   ]
  },
  {
   "cell_type": "code",
   "execution_count": 61,
   "id": "743c39b9",
   "metadata": {},
   "outputs": [],
   "source": [
    "aer_sim = Aer.get_backend('aer_simulator')\n",
    "transpiled_grover_circuit = transpile(grover_circuit, aer_sim)\n",
    "qobj = assemble(transpiled_grover_circuit)"
   ]
  },
  {
   "cell_type": "code",
   "execution_count": 84,
   "id": "4f8860f7",
   "metadata": {},
   "outputs": [
    {
     "name": "stdout",
     "output_type": "stream",
     "text": [
      "CPU times: user 1.66 ms, sys: 0 ns, total: 1.66 ms\n",
      "Wall time: 1.62 ms\n"
     ]
    }
   ],
   "source": [
    "%%time\n",
    "results = aer_sim.run(qobj).result()"
   ]
  },
  {
   "cell_type": "code",
   "execution_count": 85,
   "id": "f84d1d6c",
   "metadata": {},
   "outputs": [
    {
     "data": {
      "image/png": "[encoded data removed]",
      "text/plain": [
       "<Figure size 700x500 with 1 Axes>"
      ]
     },
     "execution_count": 85,
     "metadata": {},
     "output_type": "execute_result"
    }
   ],
   "source": [
    "counts = results.get_counts()\n",
    "plot_histogram(counts)"
   ]
  },
  {
   "cell_type": "markdown",
   "id": "d5128031",
   "metadata": {},
   "source": [
    "## As expected the final result shows that our algorithm discovered our marked states $|101⟩$ and $|110⟩$"
   ]
  },
  {
   "cell_type": "markdown",
   "id": "5acd664d",
   "metadata": {},
   "source": [
    "## Classical solution: *Search in unsorted list*\n",
    "\n",
    "- As we are dealing with a unsorted list, we cannot use algorithms such as **Binary Search Tree** that would reduce the complexity from O(n) to O(logn) if the list were sorted.\n",
    "\n",
    "\n",
    "- That beign said, our best approach would be a sequential search, and by that I mean: Iterate over all elements of the list to verify if our desired element is present or not, and return it's index in the list.\n",
    "\n",
    "\n",
    "- This idea can be translated as code in the following form:"
   ]
  },
  {
   "cell_type": "code",
   "execution_count": 65,
   "id": "a79c1cbf",
   "metadata": {},
   "outputs": [],
   "source": [
    "def unstructured_search(desired, array):\n",
    "    index = -1\n",
    "    for idx in range(len(array)):\n",
    "        if desired == array[idx]:\n",
    "            index = idx\n",
    "            continue\n",
    "\n",
    "    if index == -1:\n",
    "        print(f\"Element {desired} is not present in the array.\")    \n",
    "    \n",
    "    return index"
   ]
  },
  {
   "cell_type": "code",
   "execution_count": 86,
   "id": "d845dcc6",
   "metadata": {},
   "outputs": [
    {
     "name": "stdout",
     "output_type": "stream",
     "text": [
      "Element 5 is found in the array at index 4\n",
      "Element 6 is found in the array at index 7\n",
      "CPU times: user 790 µs, sys: 812 µs, total: 1.6 ms\n",
      "Wall time: 1.6 ms\n"
     ]
    }
   ],
   "source": [
    "%%time\n",
    "array = [3, 1, 2, 4, 5, 7, 8, 6]\n",
    "\n",
    "for i in range(1024):\n",
    "    desired = 5\n",
    "    index = unstructured_search(desired, array)\n",
    "    \n",
    "print(f\"Element {desired} is found in the array at index\", str(index))\n",
    "    \n",
    "    \n",
    "for i in range(1024):\n",
    "    desired = 6\n",
    "    index = unstructured_search(desired, array)\n",
    "print(f\"Element {desired} is found in the array at index\", str(index))\n"
   ]
  },
  {
   "cell_type": "markdown",
   "id": "449eae35",
   "metadata": {},
   "source": [
    "### After we run both solutions: Quantum and Classical on the local machine, we will proceed to run the quantum solution on the Real Quantum Device, using the IBM Quantum platform.\n",
    "\n",
    "\n",
    "# Real Quantum Device"
   ]
  },
  {
   "cell_type": "code",
   "execution_count": 94,
   "id": "9eb55ce9",
   "metadata": {},
   "outputs": [
    {
     "name": "stderr",
     "output_type": "stream",
     "text": [
      "ibmqfactory.load_account:WARNING:2022-12-08 20:34:25,036: Credentials are already in use. The existing account in the session will be replaced.\n"
     ]
    }
   ],
   "source": [
    "IBMQ.load_account()\n",
    "\n",
    "provider = IBMQ.get_provider(hub = 'ibm-q')\n",
    "device = provider.get_backend('ibmq_qasm_simulator')"
   ]
  },
  {
   "cell_type": "code",
   "execution_count": 91,
   "id": "8f348c55",
   "metadata": {},
   "outputs": [],
   "source": [
    "transpiled_grover_circuit = transpile(grover_circuit, device)\n",
    "qobj = assemble(transpiled_grover_circuit)"
   ]
  },
  {
   "cell_type": "code",
   "execution_count": 92,
   "id": "fee92924",
   "metadata": {},
   "outputs": [
    {
     "name": "stdout",
     "output_type": "stream",
     "text": [
      "CPU times: user 113 ms, sys: 7.12 ms, total: 121 ms\n",
      "Wall time: 5.08 s\n"
     ]
    }
   ],
   "source": [
    "%%time\n",
    "results = device.run(qobj).result()"
   ]
  },
  {
   "cell_type": "code",
   "execution_count": 93,
   "id": "e9cac705",
   "metadata": {},
   "outputs": [
    {
     "data": {
      "image/png": "[encoded data removed]",
      "text/plain": [
       "<Figure size 700x500 with 1 Axes>"
      ]
     },
     "execution_count": 93,
     "metadata": {},
     "output_type": "execute_result"
    }
   ],
   "source": [
    "counts = results.get_counts()\n",
    "plot_histogram(counts)"
   ]
  },
  {
   "cell_type": "markdown",
   "id": "6de79a0c",
   "metadata": {},
   "source": [
    "# Conclusion\n",
    "\n",
    "- As we can see the summary of the results are:\n",
    "\n",
    "1. Quantum solution on local machine: took 1.66 ms\n",
    "2. Classical solution on local machine: took 1.6 ms\n",
    "3. Quantum solution on IBM real Quantum Computer: took 5.08 s\n",
    "\n",
    "- Both results (quantum solution local and classical solution local) showed predicted results. Because the total size of the input array is very short (only 8 elements) the expected result would be a very similar time of execution. \n",
    "\n",
    "\n",
    "- As the classical solution have a  time complexity of O(n) and the Quantum solution have O(sqrt(n)) with short arrays, the time of processing should be very short. But as the size of input grows, the time for the classical solution should increase much more considerably than the quantum solution. \n",
    "\n",
    "\n",
    "- This behaviour of **execution time vs input_size** that grows much faster for classical than for quantum solution can be demonstrated with the following graphic:"
   ]
  },
  {
   "cell_type": "code",
   "execution_count": 95,
   "id": "5229a994",
   "metadata": {},
   "outputs": [
    {
     "data": {
      "image/png": "[encoded data removed]",
      "text/plain": [
       "<Figure size 640x480 with 1 Axes>"
      ]
     },
     "metadata": {},
     "output_type": "display_data"
    }
   ],
   "source": [
    "import matplotlib.pyplot as plt\n",
    "import math\n",
    "\n",
    "MAX = 50\n",
    "simulacao_groover  = [math.sqrt(i) for i in range(MAX)]\n",
    "simulacao_classica = [i for i in range(MAX)]\n",
    "xaxis = simulacao_classica\n",
    "\n",
    "plt.plot(xaxis, simulacao_groover)\n",
    "plt.plot(xaxis, simulacao_classica)\n",
    "plt.xlabel(\"Quantidade de Elementos na Lista Desestruturada\")\n",
    "plt.ylabel(\"Complexidade (tempo estimado para rodar )\")\n",
    "plt.title(\"Simulação - Comparação Tempo Clássico vs Groovers\")\n",
    "plt.show()"
   ]
  },
  {
   "cell_type": "markdown",
   "id": "5b304054",
   "metadata": {},
   "source": [
    "## Finally\n",
    "\n",
    "- The time of execution (5 seconds) that the Quantum solution running on a real device took was not expected. But it could be related to Network latency. So this 5 seconds must include not only the **real** time of execution processing. But also all the time that the information took to propagate over the internet."
   ]
  },
  {
   "cell_type": "markdown",
   "id": "46a0f2f8",
   "metadata": {},
   "source": [
    "# Acknowledges\n",
    "\n",
    "- Grover's algorithm: https://en.wikipedia.org/wiki/Grover%27s_algorithm\n",
    "- Grover’s algorithm:  https://quantum-computing.ibm.com/composer/docs/iqx/guide/grovers-algorithm\n",
    "- Grover’s algorithm – unstructured search:  https://leftasexercise.com/2018/10/29/grovers-algorithm-unstructured-search-with-a-quantum-computer/#r1\n",
    "- Unstructured search: https://www.cse.iitk.ac.in/users/rmittal/prev_course/s21/reports/11_search.pdf\n",
    "\n",
    "- Lecture 12: Grover’s Algorithm: https://www.cs.umd.edu/class/spring2018/cmsc457/Lectures/Wat-06-Lec-12.pdf\n",
    "\n",
    "- Amplitude-amplification: https://qiskit.org/documentation/tutorials/algorithms/06_grover.html#Amplitude-amplification)\n",
    "\n",
    "- Grover’s unstructured search: https://qiskit.org/textbook/ch-algorithms/grover.html#Unstructured-Search\n",
    "- Grover’s algorithm https://qiskit.org/textbook/ch-algorithms/grover.html"
   ]
  }
 ],
 "metadata": {
  "kernelspec": {
   "display_name": "Python 3 (ipykernel)",
   "language": "python",
   "name": "python3"
  },
  "language_info": {
   "codemirror_mode": {
    "name": "ipython",
    "version": 3
   },
   "file_extension": ".py",
   "mimetype": "text/x-python",
   "name": "python",
   "nbconvert_exporter": "python",
   "pygments_lexer": "ipython3",
   "version": "3.10.8"
  }
 },
 "nbformat": 4,
 "nbformat_minor": 5
}
